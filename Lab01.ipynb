{
  "nbformat": 4,
  "nbformat_minor": 0,
  "metadata": {
    "colab": {
      "name": "Lab01.ipynb",
      "provenance": [],
      "authorship_tag": "ABX9TyMCZf73qIr9tCo+hP/EO9Qu",
      "include_colab_link": true
    },
    "kernelspec": {
      "name": "python3",
      "display_name": "Python 3"
    },
    "language_info": {
      "name": "python"
    }
  },
  "cells": [
    {
      "cell_type": "markdown",
      "metadata": {
        "id": "view-in-github",
        "colab_type": "text"
      },
      "source": [
        "<a href=\"https://colab.research.google.com/github/PhamBaVuong/MachineLearning/blob/main/Lab01.ipynb\" target=\"_parent\"><img src=\"https://colab.research.google.com/assets/colab-badge.svg\" alt=\"Open In Colab\"/></a>"
      ]
    },
    {
      "cell_type": "code",
      "execution_count": null,
      "metadata": {
        "id": "_D3HR7rCygsl",
        "colab": {
          "base_uri": "https://localhost:8080/"
        },
        "outputId": "38ed07b5-40a2-42a3-c0f8-87c0e259a8ff"
      },
      "outputs": [
        {
          "output_type": "stream",
          "name": "stdout",
          "text": [
            "[[ 5]\n",
            " [15]\n",
            " [25]\n",
            " [35]\n",
            " [45]\n",
            " [55]]\n",
            "[ 5 20 14 32 22 38]\n",
            "coefficient of determination: 0.7158756137479542\n",
            "intercept: 5.633333333333329\n",
            "slope: [0.54]\n",
            "intercept: 5.633333333333329\n",
            "slope: [[0.54]]\n",
            "redicted response:\n",
            "[ 8.33333333 13.73333333 19.13333333 24.53333333 29.93333333 35.33333333]\n",
            "predicted response\n",
            "[[ 8.33333333]\n",
            " [13.73333333]\n",
            " [19.13333333]\n",
            " [24.53333333]\n",
            " [29.93333333]\n",
            " [35.33333333]]\n",
            "[[0]\n",
            " [1]\n",
            " [2]\n",
            " [3]\n",
            " [4]]\n",
            "[5.63333333 6.17333333 6.71333333 7.25333333 7.79333333]\n"
          ]
        }
      ],
      "source": [
        "# Nhập gói và lớp\n",
        "import numpy as np\n",
        "from sklearn.linear_model import LinearRegression\n",
        "# Cung cấp dữ liệu\n",
        "x = np.array([5 , 15, 25, 35, 45, 55]).reshape((-1, 1))\n",
        "y = np.array([5, 20, 14, 32, 22, 38])\n",
        "print (x)\n",
        "print (y)\n",
        "# Tạo mô hình\n",
        "model = LinearRegression().fit(x, y)\n",
        "# Kết quả\n",
        "r_sq = model.score(x, y)\n",
        "print ('coefficient of determination:', r_sq)\n",
        "print ('intercept:', model.intercept_)\n",
        "print ('slope:', model.coef_)\n",
        "new_model = LinearRegression().fit(x, y.reshape((-1, 1)))\n",
        "print ('intercept:', model.intercept_)\n",
        "print ('slope:', new_model.coef_)\n",
        "y_pred = model.predict(x)\n",
        "print ('redicted response:', y_pred, sep = '\\n')\n",
        "y_pred = model.intercept_ + model.coef_ * x\n",
        "print ('predicted response', y_pred, sep = '\\n')\n",
        "x_new = np.arange(5).reshape((-1, 1))\n",
        "print (x_new)\n",
        "y_new = model.predict(x_new)\n",
        "print (y_new)"
      ]
    }
  ]
}