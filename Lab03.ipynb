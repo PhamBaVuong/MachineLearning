{
  "nbformat": 4,
  "nbformat_minor": 0,
  "metadata": {
    "colab": {
      "name": "Lab03.ipynb",
      "provenance": [],
      "authorship_tag": "ABX9TyPLOxXZU23MCnKQ4K2t731h",
      "include_colab_link": true
    },
    "kernelspec": {
      "name": "python3",
      "display_name": "Python 3"
    },
    "language_info": {
      "name": "python"
    }
  },
  "cells": [
    {
      "cell_type": "markdown",
      "metadata": {
        "id": "view-in-github",
        "colab_type": "text"
      },
      "source": [
        "<a href=\"https://colab.research.google.com/github/PhamBaVuong/MachineLearning/blob/main/Lab03.ipynb\" target=\"_parent\"><img src=\"https://colab.research.google.com/assets/colab-badge.svg\" alt=\"Open In Colab\"/></a>"
      ]
    },
    {
      "cell_type": "markdown",
      "source": [
        "Naive Bayes"
      ],
      "metadata": {
        "id": "1rCJMmc6n-cv"
      }
    },
    {
      "cell_type": "code",
      "source": [
        "from google.colab import files\n",
        "uploaded = files.upload()"
      ],
      "metadata": {
        "id": "6PL7j6j0BFv5",
        "outputId": "423dcd8e-4429-4b28-c2b6-136eab4e9416",
        "colab": {
          "resources": {
            "http://localhost:8080/nbextensions/google.colab/files.js": {
              "data": "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",
              "ok": true,
              "headers": [
                [
                  "content-type",
                  "application/javascript"
                ]
              ],
              "status": 200,
              "status_text": ""
            }
          },
          "base_uri": "https://localhost:8080/",
          "height": 74
        }
      },
      "execution_count": 5,
      "outputs": [
        {
          "output_type": "display_data",
          "data": {
            "text/plain": [
              "<IPython.core.display.HTML object>"
            ],
            "text/html": [
              "\n",
              "     <input type=\"file\" id=\"files-42c3a241-7382-4de7-a9d4-988742b1d167\" name=\"files[]\" multiple disabled\n",
              "        style=\"border:none\" />\n",
              "     <output id=\"result-42c3a241-7382-4de7-a9d4-988742b1d167\">\n",
              "      Upload widget is only available when the cell has been executed in the\n",
              "      current browser session. Please rerun this cell to enable.\n",
              "      </output>\n",
              "      <script src=\"/nbextensions/google.colab/files.js\"></script> "
            ]
          },
          "metadata": {}
        },
        {
          "output_type": "stream",
          "name": "stdout",
          "text": [
            "Saving chieucao-cannang.txt to chieucao-cannang.txt\n"
          ]
        }
      ]
    },
    {
      "cell_type": "markdown",
      "source": [
        "01"
      ],
      "metadata": {
        "id": "QWAJTvamAUUu"
      }
    },
    {
      "cell_type": "code",
      "execution_count": null,
      "metadata": {
        "colab": {
          "base_uri": "https://localhost:8080/"
        },
        "id": "JdYitL1Sn8wc",
        "outputId": "84220d1c-47bf-40b7-9df4-26d6187d834b"
      },
      "outputs": [
        {
          "output_type": "stream",
          "name": "stdout",
          "text": [
            "Probability of e5 : [[0.27079929 0.72920071]]\n",
            "Predicting class of e5 : Y\n"
          ]
        }
      ],
      "source": [
        "import math\n",
        "from sklearn.naive_bayes import MultinomialNB\n",
        "import numpy as np\n",
        "e1 = [2, 1, 2, 2, 2, 2] # Nhập dữ liệu của tập huấn luyện (dữ liệu đầu vào)\n",
        "e2 = [2, 2, 2, 1, 2, 2]\n",
        "e3 = [2, 2, 2, 2, 2, 2]\n",
        "e4 = [0, 0, 1, 0, 2, 1]\n",
        "train_data = np.array([e1, e2, e3, e4]) # Tạo tập huấn luyện dựa trên dữ liệu đã tạo\n",
        "ket_qua = np.array(['Y', 'Y', 'Y', 'N'])    # Nhập kết quả của tập huấn luyện (dữ liệu đầu vào)\n",
        "e5 = np.array([[1, 1, 2, 1, 2, 1]]) # Tạo dữ liệu mới cần dự đoán (test)\n",
        "ml = MultinomialNB(alpha = 1)\n",
        "ml.fit(train_data, ket_qua) # Huấn luyện tập mới dự trên dữ liệu và kết quả của tập huấn luyện\n",
        "print ('Probability of e5 :', ml.predict_proba(e5)) # Dự đoán xác suất của tập mới (dữ liệu đầu ra)\n",
        "print ('Predicting class of e5 :', str(ml.predict(e5)[0]))  # Dự đoán kết quả của tập mới (dữ liệu đầu ra)"
      ]
    },
    {
      "cell_type": "markdown",
      "source": [
        "02"
      ],
      "metadata": {
        "id": "s_P_x6DpAWQy"
      }
    },
    {
      "cell_type": "code",
      "source": [
        "# Tí­nh P(A|B) theo P(A), P(B|A), P(B|not A)\n",
        "def bayes_theorem(p_a, p_b_given_a, p_b_given_not_a):\n",
        "    # Tí­nh P(not A)\n",
        "    not_a = 1 - p_a\n",
        "    # Tí­nh P(B)\n",
        "    p_b = p_b_given_a * p_a + p_b_given_not_a * not_a\n",
        "    # Tí­nh P(A|B)\n",
        "    p_a_given_b = (p_b_given_a * p_a) / p_b\n",
        "    return p_a_given_b\n",
        "\n",
        "p_a = 0.0002\n",
        "p_b_given_a = 0.85\n",
        "p_b_given_not_a = 0.05\n",
        "\n",
        "result = bayes_theorem(p_a, p_b_given_a, p_b_given_not_a)\n",
        "\n",
        "print ('P(A|B) = %.3f%%' % (result * 100))"
      ],
      "metadata": {
        "id": "ako8XHq_AW95",
        "outputId": "3ab24954-edc2-477f-9101-8d1a2d625551",
        "colab": {
          "base_uri": "https://localhost:8080/"
        }
      },
      "execution_count": 1,
      "outputs": [
        {
          "output_type": "stream",
          "name": "stdout",
          "text": [
            "P(A|B) = 0.339%\n"
          ]
        }
      ]
    },
    {
      "cell_type": "markdown",
      "source": [
        "03"
      ],
      "metadata": {
        "id": "4NIOMsMmAcrH"
      }
    },
    {
      "cell_type": "code",
      "source": [
        "import math\n",
        "import matplotlib.pyplot as plt\n",
        "\n",
        "in_time = [(0, 22), (1, 19), (2, 17), (3, 18), (4, 16), (5, 15), (6, 9), (7, 7), (8, 4), (9, 3), (10, 3), (11, 2)]\n",
        "too_late = [(6, 6), (7, 9), (8, 12), (9, 17), (10, 18), (11, 15), (12, 16), (13, 7), (14, 8), (15, 5)]\n",
        "\n",
        "X, Y = zip(*in_time)\n",
        "X2, Y2 = zip(*too_late)\n",
        "\n",
        "bar_width = 0.9\n",
        "plt.bar(X, Y, bar_width, color = 'blue', alpha = 0.75, label = 'in time')\n",
        "bar_width = 0.8\n",
        "plt.bar(X2, Y2, bar_width, color = 'red', alpha = 0.75, label = 'too late')\n",
        "\n",
        "plt.legend(loc = 'upper right')\n",
        "plt.show()\n",
        "\n",
        "in_time_dict = dict(in_time)\n",
        "too_late_dict = dict(too_late)\n",
        "\n",
        "def catch_the_train(min):\n",
        "    s = in_time_dict.get(min, 0)\n",
        "    if s == 0:\n",
        "        return 0\n",
        "    else:\n",
        "        m = too_late_dict.get(min, 0)\n",
        "        return s / (s + m)\n",
        "\n",
        "for minutes in range(-1, 13):\n",
        "    print (minutes, catch_the_train(minutes))"
      ],
      "metadata": {
        "id": "312dCLgbAdP4",
        "outputId": "5a3b831a-dba8-4053-f3f4-fed2a8ece653",
        "colab": {
          "base_uri": "https://localhost:8080/",
          "height": 508
        }
      },
      "execution_count": 2,
      "outputs": [
        {
          "output_type": "display_data",
          "data": {
            "text/plain": [
              "<Figure size 432x288 with 1 Axes>"
            ],
            "image/png": "[encoded data removed]"
          },
          "metadata": {
            "needs_background": "light"
          }
        },
        {
          "output_type": "stream",
          "name": "stdout",
          "text": [
            "-1 0\n",
            "0 1.0\n",
            "1 1.0\n",
            "2 1.0\n",
            "3 1.0\n",
            "4 1.0\n",
            "5 1.0\n",
            "6 0.6\n",
            "7 0.4375\n",
            "8 0.25\n",
            "9 0.15\n",
            "10 0.14285714285714285\n",
            "11 0.11764705882352941\n",
            "12 0\n"
          ]
        }
      ]
    },
    {
      "cell_type": "markdown",
      "source": [
        "04"
      ],
      "metadata": {
        "id": "G6rjcl2TAkmD"
      }
    },
    {
      "cell_type": "code",
      "source": [
        "import matplotlib.pyplot as plt\n",
        "import numpy as np\n",
        "genders = ['male', 'female']\n",
        "persons = []\n",
        "with open (uploaded['chieucao-cannang.txt']) as fh:\n",
        "    for line in fh:\n",
        "        persons.append(line.strip().split())\n",
        "\n",
        "firstnames = {}\n",
        "heights = {}\n",
        "\n",
        "for gender in genders:\n",
        "    firstnames[gender] = [ x[0] for x in persons if x[4] == gender]\n",
        "    heights[gender] = [ x[2] for x in persons if x[4] == gender]\n",
        "    heights[gender] = np.array(heights[gender], np.int)\n",
        "\n",
        "for gender in ('female', 'male'):\n",
        "    print (gender + ':')\n",
        "    print (firstnames[gender][:10])\n",
        "    print (heights[gender][:10])\n",
        "\n",
        "from collections import Counter\n",
        "# import numpy as np\n",
        "class Feature:\n",
        "    \n",
        "    def __init__(self, data, name = None, bin_width = None):\n",
        "        self.name = name\n",
        "        self.bin_width = bin_width\n",
        "        if bin_width:\n",
        "            self.min, self.max = min(data), max(data)\n",
        "            bins = np.arange((self.min // bin_width) * bin_width, (self.max // bin_width) * bin_width, bin_width)\n",
        "            freq, bins = np.histogram(data, bins)\n",
        "            self.freq_dict = dict(zip(bins, freq))\n",
        "            self.freq_sum = sum(self.freq_dict.values())\n",
        "\n",
        "    def frequency(self, value):\n",
        "        if self.bin_width:\n",
        "            value = (value // self.bin_width) * self.bin_width\n",
        "        if value in self.freq_dict:\n",
        "            return self.freq_dict[value]\n",
        "        else:\n",
        "            return 0\n",
        "\n",
        "fts = {}\n",
        "for gender in genders:\n",
        "    fts[gender] = Feature(heights[gender], name = gender, bin_width = 5)\n",
        "    print (gender, fts[gender].freq_dict)\n",
        "\n",
        "for gender in genders:\n",
        "    frequencies = list(fts[gender].freq_dict.items())\n",
        "    frequencies.sort(key = lambda x: x[1])\n",
        "    X, Y = zip(*frequencies)\n",
        "    color = 'blue' if gender == 'male' else 'red'\n",
        "    bar_width = 4 if gender == 'male' else 3\n",
        "    plt.bar(X, Y, bar_width, color = color, alpha = 0.75, label = gender)\n",
        "\n",
        "plt.legend(loc = 'upper right')\n",
        "plt.show()\n",
        "\n",
        "class NBclass:\n",
        "    \n",
        "    def __init__(self, name, *features):\n",
        "        self.features = features\n",
        "        self.name = name\n",
        "    \n",
        "    def probability_value_given_feature(self, feature_value, feature):\n",
        "        if feature.freq_sum == 0:\n",
        "            return 0\n",
        "        else:\n",
        "            return feature.frequency(feature_value) / feature.freq_sum\n",
        "\n",
        "cls = {}\n",
        "for gender in genders:\n",
        "    cls[gender] = NBclass(gender, fts[gender])\n",
        "\n",
        "class Classifier:\n",
        "    \n",
        "    def __init__(self, *nbclasses):\n",
        "        self.nbclasses = nbclasses\n",
        "    \n",
        "    def prob(self, *d, best_only = True):\n",
        "        nbclasses = self.nbclasses\n",
        "        probability_list = []\n",
        "        for nbclass in nbclasses:\n",
        "            ftrs = nbclass.features\n",
        "            prob = 1\n",
        "            for i in range(len(ftrs)):\n",
        "                prob *= nbclass.probability_value_given_feature(d[i], ftrs[i])\n",
        "            probability_list.append((prob, nbclass.name))\n",
        "        \n",
        "        prob_values = [f[0] for f in probability_list]\n",
        "        prob_sum = sum(prob_values)\n",
        "        if prob_sum == 0:\n",
        "            number_classes = len(self.nbclasses)\n",
        "            pl = []\n",
        "            for prob_element in probability_list:\n",
        "                pl.append(((1 / number_classes), prob_element[1]))\n",
        "            probability_list = pl\n",
        "        else:\n",
        "            probability_list = [(p[0] / prob_sum, p[1]) for p in probability_list]\n",
        "        if best_only:\n",
        "            return max(probability_list)\n",
        "        else:\n",
        "            return probability_list\n",
        "\n",
        "c = Classifier(cls['male'], cls['female'])\n",
        "for i in range(130, 220, 5):\n",
        "    print (i, c.prob(i, best_only = False))"
      ],
      "metadata": {
        "id": "iUTJAu5HAlLT",
        "outputId": "384fd248-da80-494b-ea7b-a568ccb165a1",
        "colab": {
          "base_uri": "https://localhost:8080/",
          "height": 373
        }
      },
      "execution_count": 11,
      "outputs": [
        {
          "output_type": "error",
          "ename": "OSError",
          "evalue": "ignored",
          "traceback": [
            "\u001b[0;31m---------------------------------------------------------------------------\u001b[0m",
            "\u001b[0;31mOSError\u001b[0m                                   Traceback (most recent call last)",
            "\u001b[0;32m<ipython-input-11-c12be7a272eb>\u001b[0m in \u001b[0;36m<module>\u001b[0;34m()\u001b[0m\n\u001b[1;32m      3\u001b[0m \u001b[0mgenders\u001b[0m \u001b[0;34m=\u001b[0m \u001b[0;34m[\u001b[0m\u001b[0;34m'male'\u001b[0m\u001b[0;34m,\u001b[0m \u001b[0;34m'female'\u001b[0m\u001b[0;34m]\u001b[0m\u001b[0;34m\u001b[0m\u001b[0;34m\u001b[0m\u001b[0m\n\u001b[1;32m      4\u001b[0m \u001b[0mpersons\u001b[0m \u001b[0;34m=\u001b[0m \u001b[0;34m[\u001b[0m\u001b[0;34m]\u001b[0m\u001b[0;34m\u001b[0m\u001b[0;34m\u001b[0m\u001b[0m\n\u001b[0;32m----> 5\u001b[0;31m \u001b[0;32mwith\u001b[0m \u001b[0mopen\u001b[0m \u001b[0;34m(\u001b[0m\u001b[0muploaded\u001b[0m\u001b[0;34m[\u001b[0m\u001b[0;34m'chieucao-cannang.txt'\u001b[0m\u001b[0;34m]\u001b[0m\u001b[0;34m)\u001b[0m \u001b[0;32mas\u001b[0m \u001b[0mfh\u001b[0m\u001b[0;34m:\u001b[0m\u001b[0;34m\u001b[0m\u001b[0;34m\u001b[0m\u001b[0m\n\u001b[0m\u001b[1;32m      6\u001b[0m     \u001b[0;32mfor\u001b[0m \u001b[0mline\u001b[0m \u001b[0;32min\u001b[0m \u001b[0mfh\u001b[0m\u001b[0;34m:\u001b[0m\u001b[0;34m\u001b[0m\u001b[0;34m\u001b[0m\u001b[0m\n\u001b[1;32m      7\u001b[0m         \u001b[0mpersons\u001b[0m\u001b[0;34m.\u001b[0m\u001b[0mappend\u001b[0m\u001b[0;34m(\u001b[0m\u001b[0mline\u001b[0m\u001b[0;34m.\u001b[0m\u001b[0mstrip\u001b[0m\u001b[0;34m(\u001b[0m\u001b[0;34m)\u001b[0m\u001b[0;34m.\u001b[0m\u001b[0msplit\u001b[0m\u001b[0;34m(\u001b[0m\u001b[0;34m)\u001b[0m\u001b[0;34m)\u001b[0m\u001b[0;34m\u001b[0m\u001b[0;34m\u001b[0m\u001b[0m\n",
            "\u001b[0;31mOSError\u001b[0m: [Errno 36] File name too long: b'Randy Carter 184 73.0 male\\r\\nStephanie Smith 149 52 female\\r\\nCynthia Watson 174 63 female\\r\\nJessie Morgan 175 67.0 male\\r\\nKatherine Carter 183 81 female\\r\\nDavid Reed 187 60.0 male\\r\\nStephen Jones 192 96.0 male\\r\\nJerry Allen 204 91.0 male\\r\\nBilly Wright 180 66.0 male\\r\\nEarl Green 184 52.0 male\\r\\nTodd Bell 174 53.0 male\\r\\nMartin White 177 91.0 male\\r\\nElizabeth Ross 138 37 female\\r\\nKenneth Cox 200 82.0 male\\r\\nFrank Perry 193 79.0 male\\r\\nWayne Sanders 189 79.0 male\\r\\nCarol King 145 59 female\\r\\nHenry Smith 188 53.0 male\\r\\nAlan Foster 187 81.0 male\\r\\nPaul Henderson 187 99.0 male\\r\\nJack Lewis 190 81.0 male\\r\\nChristina Foster 161 48 female\\r\\nBeverly Long 179 75 female\\r\\nBobby Parker 180 67.0 male\\r\\nKeith Flores 155 48.0 male\\r\\nCarl Bryant 201 122.0 male\\r\\nSharon Cooper 162 62 female\\r\\nDenise Bryant 148 49 female\\r\\nBrian King 171 50.0 male\\r\\nRebecca Jenkins 196 86 female\\r\\nAlice Sanders 163 46 female\\r\\nAshley Mitchell 159 37 female\\r\\nAnthony Anderson 163 53.0 male\\r\\nSarah Edwards 150 39 female\\r\\nBetty Griffin 170 56 female\\r\\nPeter Harris 191 55.0 male\\r\\nWillie Lee 175 37.0 male\\r\\nKimberly Martin 169 78 female\\r\\nJulie Jones 167 59 female\\r\\nAlbert Lopez 170 78.0 male\\r\\nBenjamin Edwards 178 79.0 male\\r\\nDonna Howard 168 71 female\\r\\nMarie Lewis 170 37 female\\r\\nPaula Kelly 167 58 female\\r\\nIrene Taylor 152 43 female\\r\\nSteve Clark 191 81.0 male\\r\\nBarbara Hall 155 48 female\\r\\nGerald Turner 17..."
          ]
        }
      ]
    },
    {
      "cell_type": "markdown",
      "source": [
        "05"
      ],
      "metadata": {
        "id": "psYzlzCTAwp6"
      }
    },
    {
      "cell_type": "code",
      "source": [
        "import numpy as np\n",
        "def prepare_person_dataset(fname):\n",
        "    genders = ['male', 'female']\n",
        "    persons = []\n",
        "    with open(fname) as fh:\n",
        "        for line in fh:\n",
        "            persons.append(line.strip().split())\n",
        "    \n",
        "    firstnames = []\n",
        "    dataset = []\n",
        "    for person in persons:\n",
        "        firstnames.append((person[0], person[4]))\n",
        "        height_weight = (float(person[2]), float(person[3]))\n",
        "        dataset.append((height_weight, person[4]))\n",
        "    return dataset\n",
        "\n",
        "learnset = prepare_person_dataset(uploaded['chieucao-cannang.txt'])\n",
        "print (learnset)"
      ],
      "metadata": {
        "id": "kTCzJfHJAxYc",
        "outputId": "2f54e887-db1b-4602-b76b-0a91f8266c7c",
        "colab": {
          "base_uri": "https://localhost:8080/",
          "height": 477
        }
      },
      "execution_count": 12,
      "outputs": [
        {
          "output_type": "error",
          "ename": "OSError",
          "evalue": "ignored",
          "traceback": [
            "\u001b[0;31m---------------------------------------------------------------------------\u001b[0m",
            "\u001b[0;31mOSError\u001b[0m                                   Traceback (most recent call last)",
            "\u001b[0;32m<ipython-input-12-4a73afd3cfbb>\u001b[0m in \u001b[0;36m<module>\u001b[0;34m()\u001b[0m\n\u001b[1;32m     15\u001b[0m     \u001b[0;32mreturn\u001b[0m \u001b[0mdataset\u001b[0m\u001b[0;34m\u001b[0m\u001b[0;34m\u001b[0m\u001b[0m\n\u001b[1;32m     16\u001b[0m \u001b[0;34m\u001b[0m\u001b[0m\n\u001b[0;32m---> 17\u001b[0;31m \u001b[0mlearnset\u001b[0m \u001b[0;34m=\u001b[0m \u001b[0mprepare_person_dataset\u001b[0m\u001b[0;34m(\u001b[0m\u001b[0muploaded\u001b[0m\u001b[0;34m[\u001b[0m\u001b[0;34m'chieucao-cannang.txt'\u001b[0m\u001b[0;34m]\u001b[0m\u001b[0;34m)\u001b[0m\u001b[0;34m\u001b[0m\u001b[0;34m\u001b[0m\u001b[0m\n\u001b[0m\u001b[1;32m     18\u001b[0m \u001b[0mprint\u001b[0m \u001b[0;34m(\u001b[0m\u001b[0mlearnset\u001b[0m\u001b[0;34m)\u001b[0m\u001b[0;34m\u001b[0m\u001b[0;34m\u001b[0m\u001b[0m\n",
            "\u001b[0;32m<ipython-input-12-4a73afd3cfbb>\u001b[0m in \u001b[0;36mprepare_person_dataset\u001b[0;34m(fname)\u001b[0m\n\u001b[1;32m      3\u001b[0m     \u001b[0mgenders\u001b[0m \u001b[0;34m=\u001b[0m \u001b[0;34m[\u001b[0m\u001b[0;34m'male'\u001b[0m\u001b[0;34m,\u001b[0m \u001b[0;34m'female'\u001b[0m\u001b[0;34m]\u001b[0m\u001b[0;34m\u001b[0m\u001b[0;34m\u001b[0m\u001b[0m\n\u001b[1;32m      4\u001b[0m     \u001b[0mpersons\u001b[0m \u001b[0;34m=\u001b[0m \u001b[0;34m[\u001b[0m\u001b[0;34m]\u001b[0m\u001b[0;34m\u001b[0m\u001b[0;34m\u001b[0m\u001b[0m\n\u001b[0;32m----> 5\u001b[0;31m     \u001b[0;32mwith\u001b[0m \u001b[0mopen\u001b[0m\u001b[0;34m(\u001b[0m\u001b[0mfname\u001b[0m\u001b[0;34m)\u001b[0m \u001b[0;32mas\u001b[0m \u001b[0mfh\u001b[0m\u001b[0;34m:\u001b[0m\u001b[0;34m\u001b[0m\u001b[0;34m\u001b[0m\u001b[0m\n\u001b[0m\u001b[1;32m      6\u001b[0m         \u001b[0;32mfor\u001b[0m \u001b[0mline\u001b[0m \u001b[0;32min\u001b[0m \u001b[0mfh\u001b[0m\u001b[0;34m:\u001b[0m\u001b[0;34m\u001b[0m\u001b[0;34m\u001b[0m\u001b[0m\n\u001b[1;32m      7\u001b[0m             \u001b[0mpersons\u001b[0m\u001b[0;34m.\u001b[0m\u001b[0mappend\u001b[0m\u001b[0;34m(\u001b[0m\u001b[0mline\u001b[0m\u001b[0;34m.\u001b[0m\u001b[0mstrip\u001b[0m\u001b[0;34m(\u001b[0m\u001b[0;34m)\u001b[0m\u001b[0;34m.\u001b[0m\u001b[0msplit\u001b[0m\u001b[0;34m(\u001b[0m\u001b[0;34m)\u001b[0m\u001b[0;34m)\u001b[0m\u001b[0;34m\u001b[0m\u001b[0;34m\u001b[0m\u001b[0m\n",
            "\u001b[0;31mOSError\u001b[0m: [Errno 36] File name too long: b'Randy Carter 184 73.0 male\\r\\nStephanie Smith 149 52 female\\r\\nCynthia Watson 174 63 female\\r\\nJessie Morgan 175 67.0 male\\r\\nKatherine Carter 183 81 female\\r\\nDavid Reed 187 60.0 male\\r\\nStephen Jones 192 96.0 male\\r\\nJerry Allen 204 91.0 male\\r\\nBilly Wright 180 66.0 male\\r\\nEarl Green 184 52.0 male\\r\\nTodd Bell 174 53.0 male\\r\\nMartin White 177 91.0 male\\r\\nElizabeth Ross 138 37 female\\r\\nKenneth Cox 200 82.0 male\\r\\nFrank Perry 193 79.0 male\\r\\nWayne Sanders 189 79.0 male\\r\\nCarol King 145 59 female\\r\\nHenry Smith 188 53.0 male\\r\\nAlan Foster 187 81.0 male\\r\\nPaul Henderson 187 99.0 male\\r\\nJack Lewis 190 81.0 male\\r\\nChristina Foster 161 48 female\\r\\nBeverly Long 179 75 female\\r\\nBobby Parker 180 67.0 male\\r\\nKeith Flores 155 48.0 male\\r\\nCarl Bryant 201 122.0 male\\r\\nSharon Cooper 162 62 female\\r\\nDenise Bryant 148 49 female\\r\\nBrian King 171 50.0 male\\r\\nRebecca Jenkins 196 86 female\\r\\nAlice Sanders 163 46 female\\r\\nAshley Mitchell 159 37 female\\r\\nAnthony Anderson 163 53.0 male\\r\\nSarah Edwards 150 39 female\\r\\nBetty Griffin 170 56 female\\r\\nPeter Harris 191 55.0 male\\r\\nWillie Lee 175 37.0 male\\r\\nKimberly Martin 169 78 female\\r\\nJulie Jones 167 59 female\\r\\nAlbert Lopez 170 78.0 male\\r\\nBenjamin Edwards 178 79.0 male\\r\\nDonna Howard 168 71 female\\r\\nMarie Lewis 170 37 female\\r\\nPaula Kelly 167 58 female\\r\\nIrene Taylor 152 43 female\\r\\nSteve Clark 191 81.0 male\\r\\nBarbara Hall 155 48 female\\r\\nGerald Turner 17..."
          ]
        }
      ]
    }
  ]
}