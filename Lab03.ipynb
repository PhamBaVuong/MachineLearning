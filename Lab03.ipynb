{
  "nbformat": 4,
  "nbformat_minor": 0,
  "metadata": {
    "colab": {
      "name": "Lab03.ipynb",
      "provenance": [],
      "authorship_tag": "ABX9TyPdA7pH9sJEmLQ+PC7CKXdF",
      "include_colab_link": true
    },
    "kernelspec": {
      "name": "python3",
      "display_name": "Python 3"
    },
    "language_info": {
      "name": "python"
    }
  },
  "cells": [
    {
      "cell_type": "markdown",
      "metadata": {
        "id": "view-in-github",
        "colab_type": "text"
      },
      "source": [
        "<a href=\"https://colab.research.google.com/github/PhamBaVuong/MachineLearning/blob/main/Lab03.ipynb\" target=\"_parent\"><img src=\"https://colab.research.google.com/assets/colab-badge.svg\" alt=\"Open In Colab\"/></a>"
      ]
    },
    {
      "cell_type": "markdown",
      "source": [
        "Naive Bayes"
      ],
      "metadata": {
        "id": "1rCJMmc6n-cv"
      }
    },
    {
      "cell_type": "code",
      "execution_count": 2,
      "metadata": {
        "colab": {
          "base_uri": "https://localhost:8080/"
        },
        "id": "JdYitL1Sn8wc",
        "outputId": "84220d1c-47bf-40b7-9df4-26d6187d834b"
      },
      "outputs": [
        {
          "output_type": "stream",
          "name": "stdout",
          "text": [
            "Probability of e5 : [[0.27079929 0.72920071]]\n",
            "Predicting class of e5 : Y\n"
          ]
        }
      ],
      "source": [
        "import math\n",
        "from sklearn.naive_bayes import MultinomialNB\n",
        "import numpy as np\n",
        "e1 = [2, 1, 2, 2, 2, 2] # Nhập dữ liệu của tập huấn luyện (dữ liệu đầu vào)\n",
        "e2 = [2, 2, 2, 1, 2, 2]\n",
        "e3 = [2, 2, 2, 2, 2, 2]\n",
        "e4 = [0, 0, 1, 0, 2, 1]\n",
        "train_data = np.array([e1, e2, e3, e4]) # Tạo tập huấn luyện dựa trên dữ liệu đã tạo\n",
        "ket_qua = np.array(['Y', 'Y', 'Y', 'N'])    # Nhập kết quả của tập huấn luyện (dữ liệu đầu vào)\n",
        "e5 = np.array([[1, 1, 2, 1, 2, 1]]) # Tạo dữ liệu mới cần dự đoán (test)\n",
        "ml = MultinomialNB(alpha = 1)\n",
        "ml.fit(train_data, ket_qua) # Huấn luyện tập mới dự trên dữ liệu và kết quả của tập huấn luyện\n",
        "print ('Probability of e5 :', ml.predict_proba(e5)) # Dự đoán xác suất của tập mới (dữ liệu đầu ra)\n",
        "print ('Predicting class of e5 :', str(ml.predict(e5)[0]))  # Dự đoán kết quả của tập mới (dữ liệu đầu ra)"
      ]
    }
  ]
}